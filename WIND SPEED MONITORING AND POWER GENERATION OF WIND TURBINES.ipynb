{
 "cells": [
  {
   "cell_type": "code",
   "execution_count": 1,
   "id": "17591d61",
   "metadata": {},
   "outputs": [],
   "source": [
    "import numpy as np\n",
    "import pandas as pd\n",
    "import matplotlib.pyplot as plt\n",
    "import seaborn as sns\n",
    "from sklearn.tree import DecisionTreeRegressor\n",
    "from sklearn.svm import SVR\n",
    "from sklearn.ensemble import RandomForestRegressor\n",
    "from sklearn.impute import SimpleImputer\n",
    "from sklearn.metrics import mean_absolute_error, mean_squared_error, r2_score"
   ]
  },
  {
   "cell_type": "code",
   "execution_count": 37,
   "id": "ba7f19b5",
   "metadata": {},
   "outputs": [],
   "source": [
    "df=pd.read_csv(r\"C:\\Users\\Smruti\\Desktop\\devops\\insomnia\\windspeed.csv\")"
   ]
  },
  {
   "cell_type": "code",
   "execution_count": 38,
   "id": "4d1fb417",
   "metadata": {},
   "outputs": [
    {
     "name": "stdout",
     "output_type": "stream",
     "text": [
      "<class 'pandas.core.frame.DataFrame'>\n",
      "RangeIndex: 50530 entries, 0 to 50529\n",
      "Data columns (total 8 columns):\n",
      " #   Column                         Non-Null Count  Dtype  \n",
      "---  ------                         --------------  -----  \n",
      " 0   Date/Time                      50530 non-null  object \n",
      " 1   Wind Speed (m/s)               50530 non-null  float64\n",
      " 2   LV ActivePower (kW)            50530 non-null  float64\n",
      " 3   Theoretical_Power_Curve (KWh)  50530 non-null  float64\n",
      " 4   Wind Direction (°)             50530 non-null  float64\n",
      " 5   Unnamed: 5                     0 non-null      float64\n",
      " 6   Unnamed: 6                     0 non-null      float64\n",
      " 7   Unnamed: 7                     50530 non-null  float64\n",
      "dtypes: float64(7), object(1)\n",
      "memory usage: 3.1+ MB\n"
     ]
    }
   ],
   "source": [
    "df.info()"
   ]
  },
  {
   "cell_type": "code",
   "execution_count": 39,
   "id": "c5b96fe1",
   "metadata": {},
   "outputs": [],
   "source": [
    "df.drop(columns=df[['Date/Time','Theoretical_Power_Curve (KWh)']],inplace=True)\n",
    "y=df['LV ActivePower (kW)']\n",
    "#df.drop(columns=['LV ActivePower (kW)'],axis=1,inplace=True)"
   ]
  },
  {
   "cell_type": "markdown",
   "id": "d82e9736",
   "metadata": {},
   "source": [
    "### Standardization"
   ]
  },
  {
   "cell_type": "code",
   "execution_count": 43,
   "id": "c43b0e31",
   "metadata": {},
   "outputs": [
    {
     "data": {
      "text/html": [
       "<div>\n",
       "<style scoped>\n",
       "    .dataframe tbody tr th:only-of-type {\n",
       "        vertical-align: middle;\n",
       "    }\n",
       "\n",
       "    .dataframe tbody tr th {\n",
       "        vertical-align: top;\n",
       "    }\n",
       "\n",
       "    .dataframe thead th {\n",
       "        text-align: right;\n",
       "    }\n",
       "</style>\n",
       "<table border=\"1\" class=\"dataframe\">\n",
       "  <thead>\n",
       "    <tr style=\"text-align: right;\">\n",
       "      <th></th>\n",
       "      <th>Wind Speed (m/s)</th>\n",
       "      <th>LV ActivePower (kW)</th>\n",
       "      <th>Wind Direction (°)</th>\n",
       "      <th>Unnamed: 5</th>\n",
       "      <th>Unnamed: 6</th>\n",
       "      <th>Unnamed: 7</th>\n",
       "    </tr>\n",
       "  </thead>\n",
       "  <tbody>\n",
       "    <tr>\n",
       "      <th>0</th>\n",
       "      <td>5.31</td>\n",
       "      <td>380.047791</td>\n",
       "      <td>259.994904</td>\n",
       "      <td>NaN</td>\n",
       "      <td>NaN</td>\n",
       "      <td>5.31</td>\n",
       "    </tr>\n",
       "    <tr>\n",
       "      <th>1</th>\n",
       "      <td>5.67</td>\n",
       "      <td>453.769196</td>\n",
       "      <td>268.641113</td>\n",
       "      <td>NaN</td>\n",
       "      <td>NaN</td>\n",
       "      <td>5.67</td>\n",
       "    </tr>\n",
       "    <tr>\n",
       "      <th>2</th>\n",
       "      <td>5.22</td>\n",
       "      <td>306.376587</td>\n",
       "      <td>272.564789</td>\n",
       "      <td>NaN</td>\n",
       "      <td>NaN</td>\n",
       "      <td>5.22</td>\n",
       "    </tr>\n",
       "    <tr>\n",
       "      <th>3</th>\n",
       "      <td>5.66</td>\n",
       "      <td>419.645904</td>\n",
       "      <td>271.258087</td>\n",
       "      <td>NaN</td>\n",
       "      <td>NaN</td>\n",
       "      <td>5.66</td>\n",
       "    </tr>\n",
       "    <tr>\n",
       "      <th>4</th>\n",
       "      <td>5.58</td>\n",
       "      <td>380.650696</td>\n",
       "      <td>265.674286</td>\n",
       "      <td>NaN</td>\n",
       "      <td>NaN</td>\n",
       "      <td>5.58</td>\n",
       "    </tr>\n",
       "    <tr>\n",
       "      <th>5</th>\n",
       "      <td>5.60</td>\n",
       "      <td>402.391998</td>\n",
       "      <td>264.578613</td>\n",
       "      <td>NaN</td>\n",
       "      <td>NaN</td>\n",
       "      <td>5.60</td>\n",
       "    </tr>\n",
       "    <tr>\n",
       "      <th>6</th>\n",
       "      <td>5.79</td>\n",
       "      <td>447.605713</td>\n",
       "      <td>266.163605</td>\n",
       "      <td>NaN</td>\n",
       "      <td>NaN</td>\n",
       "      <td>5.79</td>\n",
       "    </tr>\n",
       "    <tr>\n",
       "      <th>7</th>\n",
       "      <td>5.31</td>\n",
       "      <td>387.242188</td>\n",
       "      <td>257.949493</td>\n",
       "      <td>NaN</td>\n",
       "      <td>NaN</td>\n",
       "      <td>5.31</td>\n",
       "    </tr>\n",
       "    <tr>\n",
       "      <th>8</th>\n",
       "      <td>5.58</td>\n",
       "      <td>463.651215</td>\n",
       "      <td>253.480698</td>\n",
       "      <td>NaN</td>\n",
       "      <td>NaN</td>\n",
       "      <td>5.58</td>\n",
       "    </tr>\n",
       "    <tr>\n",
       "      <th>9</th>\n",
       "      <td>5.52</td>\n",
       "      <td>439.725708</td>\n",
       "      <td>258.723785</td>\n",
       "      <td>NaN</td>\n",
       "      <td>NaN</td>\n",
       "      <td>5.52</td>\n",
       "    </tr>\n",
       "    <tr>\n",
       "      <th>10</th>\n",
       "      <td>5.72</td>\n",
       "      <td>498.181702</td>\n",
       "      <td>251.850998</td>\n",
       "      <td>NaN</td>\n",
       "      <td>NaN</td>\n",
       "      <td>5.72</td>\n",
       "    </tr>\n",
       "    <tr>\n",
       "      <th>11</th>\n",
       "      <td>5.93</td>\n",
       "      <td>526.816223</td>\n",
       "      <td>265.504700</td>\n",
       "      <td>NaN</td>\n",
       "      <td>NaN</td>\n",
       "      <td>5.93</td>\n",
       "    </tr>\n",
       "    <tr>\n",
       "      <th>12</th>\n",
       "      <td>6.55</td>\n",
       "      <td>710.587280</td>\n",
       "      <td>274.232910</td>\n",
       "      <td>NaN</td>\n",
       "      <td>NaN</td>\n",
       "      <td>6.55</td>\n",
       "    </tr>\n",
       "    <tr>\n",
       "      <th>13</th>\n",
       "      <td>6.20</td>\n",
       "      <td>655.194275</td>\n",
       "      <td>266.733185</td>\n",
       "      <td>NaN</td>\n",
       "      <td>NaN</td>\n",
       "      <td>6.20</td>\n",
       "    </tr>\n",
       "    <tr>\n",
       "      <th>14</th>\n",
       "      <td>6.51</td>\n",
       "      <td>754.762512</td>\n",
       "      <td>266.760406</td>\n",
       "      <td>NaN</td>\n",
       "      <td>NaN</td>\n",
       "      <td>6.51</td>\n",
       "    </tr>\n",
       "  </tbody>\n",
       "</table>\n",
       "</div>"
      ],
      "text/plain": [
       "    Wind Speed (m/s)  LV ActivePower (kW)  Wind Direction (°)  Unnamed: 5  \\\n",
       "0               5.31           380.047791          259.994904         NaN   \n",
       "1               5.67           453.769196          268.641113         NaN   \n",
       "2               5.22           306.376587          272.564789         NaN   \n",
       "3               5.66           419.645904          271.258087         NaN   \n",
       "4               5.58           380.650696          265.674286         NaN   \n",
       "5               5.60           402.391998          264.578613         NaN   \n",
       "6               5.79           447.605713          266.163605         NaN   \n",
       "7               5.31           387.242188          257.949493         NaN   \n",
       "8               5.58           463.651215          253.480698         NaN   \n",
       "9               5.52           439.725708          258.723785         NaN   \n",
       "10              5.72           498.181702          251.850998         NaN   \n",
       "11              5.93           526.816223          265.504700         NaN   \n",
       "12              6.55           710.587280          274.232910         NaN   \n",
       "13              6.20           655.194275          266.733185         NaN   \n",
       "14              6.51           754.762512          266.760406         NaN   \n",
       "\n",
       "    Unnamed: 6  Unnamed: 7  \n",
       "0          NaN        5.31  \n",
       "1          NaN        5.67  \n",
       "2          NaN        5.22  \n",
       "3          NaN        5.66  \n",
       "4          NaN        5.58  \n",
       "5          NaN        5.60  \n",
       "6          NaN        5.79  \n",
       "7          NaN        5.31  \n",
       "8          NaN        5.58  \n",
       "9          NaN        5.52  \n",
       "10         NaN        5.72  \n",
       "11         NaN        5.93  \n",
       "12         NaN        6.55  \n",
       "13         NaN        6.20  \n",
       "14         NaN        6.51  "
      ]
     },
     "execution_count": 43,
     "metadata": {},
     "output_type": "execute_result"
    }
   ],
   "source": [
    "df.head(15)"
   ]
  },
  {
   "cell_type": "code",
   "execution_count": 44,
   "id": "1c63bc48",
   "metadata": {},
   "outputs": [],
   "source": [
    "df['LV ActivePower (kW)']=(df['LV ActivePower (kW)']-df['LV ActivePower (kW)'].mean())/(df['LV ActivePower (kW)'].std())\n",
    "df['Wind Speed (m/s)']=(df['Wind Speed (m/s)']-df['Wind Speed (m/s)'].mean())/(df['Wind Speed (m/s)'].std())"
   ]
  },
  {
   "cell_type": "code",
   "execution_count": 45,
   "id": "01676c7a",
   "metadata": {},
   "outputs": [],
   "source": [
    "y_train=y[:42283]\n",
    "y_test=y[42283:]\n",
    "X_train=df.iloc[:42283]\n",
    "X_test=df.iloc[42283:]"
   ]
  },
  {
   "cell_type": "code",
   "execution_count": 6,
   "id": "727b3ad3",
   "metadata": {},
   "outputs": [],
   "source": [
    "from sklearn.model_selection import RandomizedSearchCV, GridSearchCV"
   ]
  },
  {
   "cell_type": "code",
   "execution_count": 7,
   "id": "952f117a",
   "metadata": {},
   "outputs": [],
   "source": [
    "def timer(start_time=None):\n",
    "    if not start_time:\n",
    "        start_time = datetime.now()\n",
    "        return start_time\n",
    "    elif start_time:\n",
    "        thour, temp_sec = divmod((datetime.now() - start_time).total_seconds(), 3600)\n",
    "        tmin, tsec = divmod(temp_sec, 60)\n",
    "        print('\\n Time taken: %i hours %i minutes and %s seconds.' % (thour, tmin, round(tsec, 2)))"
   ]
  },
  {
   "cell_type": "code",
   "execution_count": 8,
   "id": "aabea76e",
   "metadata": {},
   "outputs": [],
   "source": [
    "rf=RandomForestRegressor()\n",
    "params_rf={\n",
    "\"n_estimators\"     : [50, 100, 150, 200, 500, 800,1000,1500] ,\n",
    " \"max_depth\"        : [ 3, 4, 5, 6, 8, 10, 12, 15,20,25]}"
   ]
  },
  {
   "cell_type": "code",
   "execution_count": 9,
   "id": "29cf42b5",
   "metadata": {},
   "outputs": [],
   "source": [
    "random_search=RandomizedSearchCV(rf,param_distributions=params_rf,n_iter=10,n_jobs=-1,cv=5,verbose=3)"
   ]
  },
  {
   "cell_type": "code",
   "execution_count": 10,
   "id": "f9702435",
   "metadata": {},
   "outputs": [
    {
     "name": "stderr",
     "output_type": "stream",
     "text": [
      "C:\\Users\\Smruti\\anaconda3\\Lib\\site-packages\\sklearn\\impute\\_base.py:555: UserWarning: Skipping features without any observed values: ['Unnamed: 5' 'Unnamed: 6']. At least one non-missing value is needed for imputation with strategy='mean'.\n",
      "  warnings.warn(\n",
      "C:\\Users\\Smruti\\anaconda3\\Lib\\site-packages\\sklearn\\impute\\_base.py:555: UserWarning: Skipping features without any observed values: ['Unnamed: 5' 'Unnamed: 6']. At least one non-missing value is needed for imputation with strategy='mean'.\n",
      "  warnings.warn(\n"
     ]
    },
    {
     "name": "stdout",
     "output_type": "stream",
     "text": [
      "Random Forest:\n",
      "  R2: 1.0000\n",
      "  RMSE: 0.0894\n",
      "  MAE: 0.0491\n",
      "\n",
      "Decision Tree:\n",
      "  R2: 1.0000\n",
      "  RMSE: 0.1571\n",
      "  MAE: 0.0802\n",
      "\n",
      "Support Vector Regressor:\n",
      "  R2: 0.8948\n",
      "  RMSE: 445.4300\n",
      "  MAE: 173.4817\n",
      "\n"
     ]
    }
   ],
   "source": [
    "\n",
    "\n",
    "# Assuming X_train, X_test, y_train, y_test are already defined\n",
    "\n",
    "results = {\n",
    "    \"Model\": [],\n",
    "    \"R2\": [],\n",
    "    \"RMSE\": [],\n",
    "    \"MAE\": []\n",
    "}\n",
    "\n",
    "# Impute missing values\n",
    "imputer = SimpleImputer(strategy='mean')\n",
    "X_train_imputed = imputer.fit_transform(X_train)\n",
    "X_test_imputed = imputer.transform(X_test)\n",
    "\n",
    "# Initialize models\n",
    "rf = RandomForestRegressor()\n",
    "dt = DecisionTreeRegressor(random_state=42)\n",
    "sm = SVR(gamma='auto',C=100,epsilon=0.4)\n",
    "\n",
    "# Fit the models and make predictions\n",
    "model_rf = rf.fit(X_train_imputed, y_train)\n",
    "y_rf = model_rf.predict(X_test_imputed)\n",
    "\n",
    "model_dt = dt.fit(X_train_imputed, y_train)\n",
    "y_dt = model_dt.predict(X_test_imputed)\n",
    "\n",
    "model_sm = sm.fit(X_train_imputed, y_train)\n",
    "y_sm = model_sm.predict(X_test_imputed)\n",
    "\n",
    "# Evaluation metrics calculation\n",
    "metrics = {\n",
    "    \"RandomForest\": (y_rf, \"Random Forest\"),\n",
    "    \"DecisionTree\": (y_dt, \"Decision Tree\"),\n",
    "    \"SVR\": (y_sm, \"Support Vector Regressor\")\n",
    "}\n",
    "\n",
    "for name, (y_pred, model_name) in metrics.items():\n",
    "    r2 = r2_score(y_test, y_pred)\n",
    "    rmse = np.sqrt(mean_squared_error(y_test, y_pred))\n",
    "    mae = mean_absolute_error(y_test, y_pred)\n",
    "    results[\"Model\"].append(model_name)\n",
    "    results[\"R2\"].append(r2)\n",
    "    results[\"RMSE\"].append(rmse)\n",
    "    results[\"MAE\"].append(mae)\n",
    "    print(f'{model_name}:')\n",
    "    print(f'  R2: {r2:.4f}')\n",
    "    print(f'  RMSE: {rmse:.4f}')\n",
    "    print(f'  MAE: {mae:.4f}\\n')\n"
   ]
  },
  {
   "cell_type": "code",
   "execution_count": 11,
   "id": "095893e3",
   "metadata": {},
   "outputs": [
    {
     "name": "stdout",
     "output_type": "stream",
     "text": [
      "Fitting 5 folds for each of 10 candidates, totalling 50 fits\n",
      "\n",
      " Time taken: 0 hours 14 minutes and 56.12 seconds.\n"
     ]
    }
   ],
   "source": [
    "from datetime import datetime\n",
    "\n",
    "start_time = timer(None) \n",
    "random_search.fit(X_train_imputed,y_train)\n",
    "timer(start_time) "
   ]
  },
  {
   "cell_type": "code",
   "execution_count": 12,
   "id": "12984739",
   "metadata": {},
   "outputs": [
    {
     "data": {
      "text/html": [
       "<style>#sk-container-id-1 {color: black;}#sk-container-id-1 pre{padding: 0;}#sk-container-id-1 div.sk-toggleable {background-color: white;}#sk-container-id-1 label.sk-toggleable__label {cursor: pointer;display: block;width: 100%;margin-bottom: 0;padding: 0.3em;box-sizing: border-box;text-align: center;}#sk-container-id-1 label.sk-toggleable__label-arrow:before {content: \"▸\";float: left;margin-right: 0.25em;color: #696969;}#sk-container-id-1 label.sk-toggleable__label-arrow:hover:before {color: black;}#sk-container-id-1 div.sk-estimator:hover label.sk-toggleable__label-arrow:before {color: black;}#sk-container-id-1 div.sk-toggleable__content {max-height: 0;max-width: 0;overflow: hidden;text-align: left;background-color: #f0f8ff;}#sk-container-id-1 div.sk-toggleable__content pre {margin: 0.2em;color: black;border-radius: 0.25em;background-color: #f0f8ff;}#sk-container-id-1 input.sk-toggleable__control:checked~div.sk-toggleable__content {max-height: 200px;max-width: 100%;overflow: auto;}#sk-container-id-1 input.sk-toggleable__control:checked~label.sk-toggleable__label-arrow:before {content: \"▾\";}#sk-container-id-1 div.sk-estimator input.sk-toggleable__control:checked~label.sk-toggleable__label {background-color: #d4ebff;}#sk-container-id-1 div.sk-label input.sk-toggleable__control:checked~label.sk-toggleable__label {background-color: #d4ebff;}#sk-container-id-1 input.sk-hidden--visually {border: 0;clip: rect(1px 1px 1px 1px);clip: rect(1px, 1px, 1px, 1px);height: 1px;margin: -1px;overflow: hidden;padding: 0;position: absolute;width: 1px;}#sk-container-id-1 div.sk-estimator {font-family: monospace;background-color: #f0f8ff;border: 1px dotted black;border-radius: 0.25em;box-sizing: border-box;margin-bottom: 0.5em;}#sk-container-id-1 div.sk-estimator:hover {background-color: #d4ebff;}#sk-container-id-1 div.sk-parallel-item::after {content: \"\";width: 100%;border-bottom: 1px solid gray;flex-grow: 1;}#sk-container-id-1 div.sk-label:hover label.sk-toggleable__label {background-color: #d4ebff;}#sk-container-id-1 div.sk-serial::before {content: \"\";position: absolute;border-left: 1px solid gray;box-sizing: border-box;top: 0;bottom: 0;left: 50%;z-index: 0;}#sk-container-id-1 div.sk-serial {display: flex;flex-direction: column;align-items: center;background-color: white;padding-right: 0.2em;padding-left: 0.2em;position: relative;}#sk-container-id-1 div.sk-item {position: relative;z-index: 1;}#sk-container-id-1 div.sk-parallel {display: flex;align-items: stretch;justify-content: center;background-color: white;position: relative;}#sk-container-id-1 div.sk-item::before, #sk-container-id-1 div.sk-parallel-item::before {content: \"\";position: absolute;border-left: 1px solid gray;box-sizing: border-box;top: 0;bottom: 0;left: 50%;z-index: -1;}#sk-container-id-1 div.sk-parallel-item {display: flex;flex-direction: column;z-index: 1;position: relative;background-color: white;}#sk-container-id-1 div.sk-parallel-item:first-child::after {align-self: flex-end;width: 50%;}#sk-container-id-1 div.sk-parallel-item:last-child::after {align-self: flex-start;width: 50%;}#sk-container-id-1 div.sk-parallel-item:only-child::after {width: 0;}#sk-container-id-1 div.sk-dashed-wrapped {border: 1px dashed gray;margin: 0 0.4em 0.5em 0.4em;box-sizing: border-box;padding-bottom: 0.4em;background-color: white;}#sk-container-id-1 div.sk-label label {font-family: monospace;font-weight: bold;display: inline-block;line-height: 1.2em;}#sk-container-id-1 div.sk-label-container {text-align: center;}#sk-container-id-1 div.sk-container {/* jupyter's `normalize.less` sets `[hidden] { display: none; }` but bootstrap.min.css set `[hidden] { display: none !important; }` so we also need the `!important` here to be able to override the default hidden behavior on the sphinx rendered scikit-learn.org. See: https://github.com/scikit-learn/scikit-learn/issues/21755 */display: inline-block !important;position: relative;}#sk-container-id-1 div.sk-text-repr-fallback {display: none;}</style><div id=\"sk-container-id-1\" class=\"sk-top-container\"><div class=\"sk-text-repr-fallback\"><pre>RandomForestRegressor(max_depth=20, n_estimators=150)</pre><b>In a Jupyter environment, please rerun this cell to show the HTML representation or trust the notebook. <br />On GitHub, the HTML representation is unable to render, please try loading this page with nbviewer.org.</b></div><div class=\"sk-container\" hidden><div class=\"sk-item\"><div class=\"sk-estimator sk-toggleable\"><input class=\"sk-toggleable__control sk-hidden--visually\" id=\"sk-estimator-id-1\" type=\"checkbox\" checked><label for=\"sk-estimator-id-1\" class=\"sk-toggleable__label sk-toggleable__label-arrow\">RandomForestRegressor</label><div class=\"sk-toggleable__content\"><pre>RandomForestRegressor(max_depth=20, n_estimators=150)</pre></div></div></div></div></div>"
      ],
      "text/plain": [
       "RandomForestRegressor(max_depth=20, n_estimators=150)"
      ]
     },
     "execution_count": 12,
     "metadata": {},
     "output_type": "execute_result"
    }
   ],
   "source": [
    "random_search.best_estimator_"
   ]
  },
  {
   "cell_type": "code",
   "execution_count": 13,
   "id": "18c973cd",
   "metadata": {},
   "outputs": [
    {
     "data": {
      "text/plain": [
       "0.9999999957624205"
      ]
     },
     "execution_count": 13,
     "metadata": {},
     "output_type": "execute_result"
    }
   ],
   "source": [
    "x=rf.fit(X_train_imputed,y_train)\n",
    "y1=x.predict(X_test_imputed)\n",
    "r2_score(y_test,y1)"
   ]
  },
  {
   "cell_type": "code",
   "execution_count": null,
   "id": "4a38d986",
   "metadata": {},
   "outputs": [],
   "source": []
  },
  {
   "cell_type": "code",
   "execution_count": 14,
   "id": "d094fb46",
   "metadata": {},
   "outputs": [
    {
     "data": {
      "text/plain": [
       "0.9999999958091156"
      ]
     },
     "execution_count": 14,
     "metadata": {},
     "output_type": "execute_result"
    }
   ],
   "source": [
    "sv=SVR(gamma='auto',C=100,epsilon=0.4)\n",
    "x=rf.fit(X_train_imputed,y_train)\n",
    "y1=x.predict(X_test_imputed)\n",
    "r2_score(y_test,y1)"
   ]
  },
  {
   "cell_type": "code",
   "execution_count": null,
   "id": "7c520dcf",
   "metadata": {},
   "outputs": [],
   "source": []
  },
  {
   "cell_type": "code",
   "execution_count": 15,
   "id": "928d3f4b",
   "metadata": {},
   "outputs": [
    {
     "data": {
      "text/plain": [
       "0.9999999869182314"
      ]
     },
     "execution_count": 15,
     "metadata": {},
     "output_type": "execute_result"
    }
   ],
   "source": [
    "dt = DecisionTreeRegressor(random_state=42)\n",
    "dt.fit(X_train_imputed, y_train)\n",
    "y_pred = dt.predict(X_test_imputed)\n",
    "r2_score(y_test,y_pred)"
   ]
  },
  {
   "cell_type": "code",
   "execution_count": null,
   "id": "21914512",
   "metadata": {},
   "outputs": [],
   "source": []
  },
  {
   "cell_type": "code",
   "execution_count": 16,
   "id": "d3fefc33",
   "metadata": {},
   "outputs": [
    {
     "name": "stderr",
     "output_type": "stream",
     "text": [
      "C:\\Users\\Smruti\\anaconda3\\Lib\\site-packages\\sklearn\\ensemble\\_base.py:156: FutureWarning: `base_estimator` was renamed to `estimator` in version 1.2 and will be removed in 1.4.\n",
      "  warnings.warn(\n"
     ]
    },
    {
     "name": "stdout",
     "output_type": "stream",
     "text": [
      "Accuracy: 0.9444444444444444\n"
     ]
    }
   ],
   "source": [
    "from sklearn.ensemble import BaggingClassifier\n",
    "from sklearn.datasets import load_digits\n",
    "from sklearn.model_selection import train_test_split\n",
    "from sklearn.metrics import accuracy_score\n",
    "from sklearn.tree import DecisionTreeClassifier\n",
    "\n",
    "\n",
    "\n",
    "digit = load_digits()\n",
    "X, y = digit.data, digit.target\n",
    "\n",
    "\n",
    "X_train, X_test, y_train, y_test = train_test_split(X, y, test_size=0.2, random_state=42)\n",
    "\n",
    "\n",
    "base_classifier = DecisionTreeClassifier()\n",
    "\n",
    "# Number of base models (iterations)\n",
    "n_estimators = 10\n",
    "\n",
    "\n",
    "bagging_classifier = BaggingClassifier(base_estimator=base_classifier, n_estimators=n_estimators)\n",
    "\n",
    "\n",
    "bagging_classifier.fit(X_train, y_train)\n",
    "\n",
    "\n",
    "y_pred = bagging_classifier.predict(X_test)\n",
    "\n",
    "\n",
    "accuracy = accuracy_score(y_test, y_pred)\n",
    "print(\"Accuracy:\", accuracy)\n"
   ]
  },
  {
   "cell_type": "code",
   "execution_count": null,
   "id": "32012dad",
   "metadata": {},
   "outputs": [],
   "source": []
  },
  {
   "cell_type": "code",
   "execution_count": 17,
   "id": "393168b5",
   "metadata": {},
   "outputs": [
    {
     "data": {
      "text/plain": [
       "0.833512851222292"
      ]
     },
     "execution_count": 17,
     "metadata": {},
     "output_type": "execute_result"
    }
   ],
   "source": [
    "sv=SVR(gamma='auto',C=100,epsilon=0.4)\n",
    "x=rf.fit(X_train,y_train)\n",
    "y1=x.predict(X_test)\n",
    "r2_score(y_test,y1)"
   ]
  },
  {
   "cell_type": "code",
   "execution_count": null,
   "id": "d3ae80ff",
   "metadata": {},
   "outputs": [],
   "source": []
  },
  {
   "cell_type": "code",
   "execution_count": 18,
   "id": "67d7bf13",
   "metadata": {},
   "outputs": [
    {
     "data": {
      "text/plain": [
       "0.8316381100597237"
      ]
     },
     "execution_count": 18,
     "metadata": {},
     "output_type": "execute_result"
    }
   ],
   "source": [
    "x=rf.fit(X_train,y_train)\n",
    "y1=x.predict(X_test)\n",
    "r2_score(y_test,y1)"
   ]
  },
  {
   "cell_type": "code",
   "execution_count": null,
   "id": "b79e7849",
   "metadata": {},
   "outputs": [],
   "source": []
  },
  {
   "cell_type": "code",
   "execution_count": 19,
   "id": "464b6e0a",
   "metadata": {},
   "outputs": [
    {
     "data": {
      "text/plain": [
       "0.6810343708140256"
      ]
     },
     "execution_count": 19,
     "metadata": {},
     "output_type": "execute_result"
    }
   ],
   "source": [
    "dt = DecisionTreeRegressor(random_state=42)\n",
    "dt.fit(X_train, y_train)\n",
    "y_pred = dt.predict(X_test)\n",
    "r2_score(y_test,y_pred)"
   ]
  },
  {
   "cell_type": "code",
   "execution_count": null,
   "id": "62ef5242",
   "metadata": {},
   "outputs": [],
   "source": []
  },
  {
   "cell_type": "code",
   "execution_count": 20,
   "id": "7ba1f931",
   "metadata": {},
   "outputs": [
    {
     "data": {
      "image/png": "[encoded data removed]",
      "text/plain": [
       "<Figure size 1000x1500 with 3 Axes>"
      ]
     },
     "metadata": {},
     "output_type": "display_data"
    }
   ],
   "source": [
    "fig, axs = plt.subplots(3, 1, figsize=(10, 15))\n",
    "\n",
    "# R2 Score\n",
    "axs[0].bar(results[\"Model\"], results[\"R2\"], color='skyblue')\n",
    "axs[0].set_title('R2 Score')\n",
    "axs[0].set_ylabel('R2')\n",
    "\n",
    "# RMSE\n",
    "axs[1].bar(results[\"Model\"], results[\"RMSE\"], color='lightgreen')\n",
    "axs[1].set_title('Root Mean Squared Error (RMSE)')\n",
    "axs[1].set_ylabel('RMSE')\n",
    "\n",
    "# MAE\n",
    "axs[2].bar(results[\"Model\"], results[\"MAE\"], color='salmon')\n",
    "axs[2].set_title('Mean Absolute Error (MAE)')\n",
    "axs[2].set_ylabel('MAE')\n",
    "\n",
    "plt.xticks(rotation=45)\n",
    "plt.tight_layout()\n",
    "plt.show()"
   ]
  },
  {
   "cell_type": "code",
   "execution_count": null,
   "id": "face361f",
   "metadata": {},
   "outputs": [],
   "source": []
  }
 ],
 "metadata": {
  "kernelspec": {
   "display_name": "Python 3 (ipykernel)",
   "language": "python",
   "name": "python3"
  },
  "language_info": {
   "codemirror_mode": {
    "name": "ipython",
    "version": 3
   },
   "file_extension": ".py",
   "mimetype": "text/x-python",
   "name": "python",
   "nbconvert_exporter": "python",
   "pygments_lexer": "ipython3",
   "version": "3.11.5"
  }
 },
 "nbformat": 4,
 "nbformat_minor": 5
}
